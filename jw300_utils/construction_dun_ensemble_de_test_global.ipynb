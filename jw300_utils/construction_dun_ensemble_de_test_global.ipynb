{
 "cells": [
  {
   "cell_type": "markdown",
   "metadata": {
    "id": "yLIkGn6RQ5yg"
   },
   "source": [
    "### Mise en place des données"
   ]
  },
  {
   "cell_type": "markdown",
   "metadata": {
    "id": "P_uBo3H6Q5yr"
   },
   "source": [
    "Le téléchargement du jeu de test global est simple,\n",
    "nous devons définir l'anglais et votre cible comme langue source et cible, puis trouver l'intersection du jeu de test anglais avec le corpus cible; enfin, nous obtenons les phrases cibles correspondantes du corpus cible."
   ]
  },
  {
   "cell_type": "code",
   "execution_count": 1,
   "metadata": {
    "id": "4rdvcs5aRVbf"
   },
   "outputs": [],
   "source": [
    "%%capture\n",
    "!pip install opustools-pkg"
   ]
  },
  {
   "cell_type": "markdown",
   "metadata": {
    "id": "FG5qoTCkdyCy"
   },
   "source": [
    "# DEFINITION DU CODE DE LANGAGE ainsi que d'autres variables.\n",
    "\n",
    "Vous devrez modifier la valeur ci-dessous pour votre langue !\n",
    "\n",
    "Les codes de langue du [site Web du corpus JW300](https://opus.nlpl.eu/JW300.php) sont les suivants: \n",
    "```\n",
    "[\"ab\", \"ach\", \"ada\", \"ady\", \"aed\", \"af\", \"aha\", \"ajg\", \"alt\", \"alz\", \"am\", \"ami\", \"amu\", \"aoc\", \"ar\", \"arh\", \"arn\", \"as\", \"ase\", \"asf\", \"ati\", \"ay\", \"az\", \"az_Cyrl\", \"ba\", \"bas\", \"bbc\", \"bbj\", \"bci\", \"bcl\", \"bem\", \"bfi\", \"bg\", \"bhw\", \"bi\", \"bin\", \"bn\", \"btg\", \"bts\", \"btx\", \"bum\", \"bvl\", \"byv\", \"bzj\", \"bzs\", \"cab\", \"cac\", \"cak\", \"cat\", \"cce\", \"ceb\", \"chf\", \"chj\", \"chk\", \"chw\", \"cjk\", \"cmn_Hans\", \"cmn_Hant\", \"cnh\", \"crs\", \"cs\", \"cse\", \"csf\", \"csg\", \"csl\", \"csn\", \"csr\", \"cto\", \"ctu\", \"cuk\", \"cv\", \"cy\", \"da\", \"daf\", \"de\", \"dga\", \"dhv\", \"djk\", \"dtp\", \"dua\", \"dyu\", \"ecs\", \"ee\", \"efi\", \"el\", \"en\", \"es\", \"esn\", \"et\", \"eu\", \"ewo\", \"fa\", \"fan\", \"fat\", \"fcs\", \"fi\", \"fj\", \"fo\", \"fon\", \"fr\", \"fse\", \"fsl\", \"ga\", \"gaa\", \"gcf\", \"gcr\", \"gil\", \"gl\", \"gom\", \"gsg\", \"gsm\", \"gss\", \"gu\", \"guc\", \"gug\", \"gum\", \"gur\", \"guw\", \"gxx\", \"gym\", \"ha\", \"hch\", \"hds\", \"he\", \"hi\", \"hil\", \"hmn\", \"ho\", \"hr\", \"hrx\", \"hsh\", \"ht\", \"hu\", \"hus\", \"hy\", \"hy_arevmda\", \"hye_x_hma\", \"hye_x_hms\", \"hz\", \"iba\", \"ibg\", \"id\", \"ig\", \"ilo\", \"inl\", \"ins\", \"is\", \"ise\", \"ish\", \"iso\", \"it\", \"ja\", \"jiv\", \"jmx\", \"jsl\", \"jv\", \"jw_dgr\", \"jw_dmr\", \"jw_ibi\", \"jw_paa\", \"jw_qcs\", \"jw_rmg\", \"jw_rmv\", \"jw_spl\", \"jw_ssa\", \"jw_tpo\", \"jw_vlc\", \"jw_vz\", \"ka\", \"kab\", \"kac\", \"kam\", \"kbp\", \"kea\", \"kek\", \"kg\", \"ki\", \"kj\", \"kjh\", \"kk_Arab\", \"kk_Cyrl\", \"kl\", \"km\", \"kmb\", \"kmr\", \"kmr_Cyrl\", \"kmr_latn\", \"kn\", \"ko\", \"koo\", \"kqn\", \"krc\", \"kri\", \"kss\", \"ksw\", \"kvk\", \"kwn\", \"kwy\", \"ky\", \"lam\", \"lg\", \"ln\", \"lo\", \"loz\", \"lsp\", \"lt\", \"lu\", \"lua\", \"lue\", \"lun\", \"luo\", \"lus\", \"lv\", \"mam\", \"mau\", \"maz\", \"mco\", \"mcp\", \"men\", \"mfe\", \"mfs\", \"mg\", \"mgr\", \"mh\", \"mhr\", \"miq\", \"mk\", \"ml\", \"mn\", \"mos\", \"mr\", \"mrq\", \"mt\", \"mxv\", \"my\", \"mzy\", \"nba\", \"nch\", \"ncj\", \"ncs\", \"ncx\", \"nd\", \"ndc\", \"ne\", \"ng\", \"ngl\", \"ngu\", \"nhk\", \"nia\", \"nij\", \"niu\", \"nl\", \"nnh\", \"no\", \"nr\", \"nso\", \"nv\", \"ny\", \"nya\", \"nyk\", \"nyn\", \"nyu\", \"nzi\", \"oke\", \"om\", \"or\", \"os\", \"ote\", \"pa\", \"pag\", \"pap\", \"pbb\", \"pcm\", \"pdc\", \"pdt\", \"pid\", \"pis\", \"pl\", \"pnb\", \"pon\", \"prl\", \"pso\", \"psp\", \"psr\", \"pt\", \"pys\", \"qu\", \"quc\", \"que\", \"qug\", \"qus\", \"quw\", \"quy\", \"quz\", \"qvi\", \"qvz\", \"rar\", \"rcf\", \"rmc_sk\", \"rmn\", \"rmn_Cyrl\", \"rms\", \"rmy\", \"rmy_AR\", \"rnd\", \"ro\", \"rsl\", \"ru\", \"run\", \"rw\", \"sah\", \"sbs\", \"seh\", \"sfs\", \"sfw\", \"sg\", \"sgn_AO\", \"si\", \"sid\", \"sk\", \"sl\", \"sm\", \"sn\", \"sop\", \"sq\", \"sqk\", \"sr_Cyrl\", \"sr_Latn\", \"srm\", \"srn\", \"ss\", \"ssp\", \"st\", \"su\", \"sv\", \"svk\", \"sw\", \"swc\", \"sxn\", \"ta\", \"tcf\", \"tdt\", \"tdx\", \"te\", \"tg\", \"th\", \"ti\", \"tiv\", \"tk\", \"tk_Cyrl\", \"tl\", \"tll\", \"tn\", \"to\", \"tob\", \"tog\", \"toh\", \"toi\", \"toi_zw\", \"toj\", \"top\", \"tpi\", \"tr\", \"ts\", \"tsc\", \"tso_MZ\", \"tss\", \"tsz\", \"tt\", \"ttj\", \"tum\", \"tvl\", \"tw\", \"ty\", \"tyv\", \"tzh\", \"tzo\", \"udm\", \"ug_Cyrl\", \"uk\", \"umb\", \"ur\", \"urh\", \"uz_Cyrl\", \"uz_Latn\", \"ve\", \"vec\", \"vi\", \"vmw\", \"vsl\", \"wal\", \"war\", \"wba\", \"wes\", \"wes_ng\", \"wls\", \"wlv\", \"xh\", \"xmf\", \"xpe\", \"yao\", \"yap\", \"ybb\", \"yo\", \"yua\", \"yue_Hans\", \"yue_Hant\", \"zab\", \"zai\", \"zdj\", \"zib\", \"zlm\", \"zne\", \"zpa\", \"zpg\", \"zsl\", \"zu\",\"]\n",
    "```\n",
    "Jeux de test déjà créés : https://github.com/juliakreutzer/masakhane/tree/master/jw300_utils/test\n",
    "\n",
    "Pour cet exemple, nous choisissons `ha`, qui correspond au Hausa."
   ]
  },
  {
   "cell_type": "code",
   "execution_count": 2,
   "metadata": {
    "id": "EhNiQZplQ5yt"
   },
   "outputs": [],
   "source": [
    "import os\n",
    "source_language = \"en\"\n",
    "target_language = \"ab\" # TODO: CHANGEZ CELA POUR VOTRE LANGUE ! \"ha\" est hausa. Voir les codes de langue sur https://opus.nlpl.eu/JW300.php\n",
    "lc = False  # Si True, mettre les données en minuscules.\n",
    "seed = 42  # Seed aléatoire pour le brassage.\n",
    "tag = \"baseline\" # Attribuez un nom unique à votre dossier, afin de vous assurer que vous ne réécrivez pas les modèles que vous avez déjà soumis.\n",
    "\n",
    "os.environ[\"src\"] = source_language # Les définir en bash également, puisque nous utilisons souvent des scripts bash\n",
    "os.environ[\"tgt\"] = target_language\n",
    "os.environ[\"tag\"] = tag\n",
    "\n",
    "# Pas besoin d'utiliser GDRIVE puisque nous nous formons sur GCP\n",
    "!mkdir -p \"$src-$tgt-$tag\"\n",
    "os.environ[\"gdrive_path\"] = \"%s-%s-%s\" % (source_language, target_language, tag) # sauvegarder directement sur la VM"
   ]
  },
  {
   "cell_type": "code",
   "execution_count": 3,
   "metadata": {
    "colab": {
     "base_uri": "https://localhost:8080/"
    },
    "id": "RExQ_q-vQ5yy",
    "outputId": "81f6f6fe-1a47-4599-c0a3-c5f9a1139e56"
   },
   "outputs": [
    {
     "name": "stdout",
     "output_type": "stream",
     "text": [
      "en-ab-baseline\n"
     ]
    }
   ],
   "source": [
    "!echo $gdrive_path"
   ]
  },
  {
   "cell_type": "markdown",
   "metadata": {
    "id": "6C760IqtQ5y0"
   },
   "source": [
    "#### Téléchargement des données du corpus"
   ]
  },
  {
   "cell_type": "markdown",
   "metadata": {
    "id": "x1jEhHm8Q5y1"
   },
   "source": [
    "par précaution, je supprime les anciennes données"
   ]
  },
  {
   "cell_type": "code",
   "execution_count": 4,
   "metadata": {
    "id": "XQBYlyBSQ5y3"
   },
   "outputs": [],
   "source": [
    "!rm -f w300.$src jw300.$tgt JW300_latest_xml_$src-$tgt.xml.gz JW300_latest_xml_$src-$tgt.xml JW300_latest_xml_$src.zip  JW300_latest_xml_$tgt.zip test.en-any.en"
   ]
  },
  {
   "cell_type": "code",
   "execution_count": 5,
   "metadata": {
    "colab": {
     "base_uri": "https://localhost:8080/"
    },
    "id": "W2bhVsAEQ5y4",
    "outputId": "7b8a6e6c-ae25-4ce2-8e6c-c4de7220bc0d",
    "scrolled": true
   },
   "outputs": [
    {
     "name": "stdout",
     "output_type": "stream",
     "text": [
      "\n",
      "Alignment file /proj/nlpl/data/OPUS/JW300/latest/xml/ab-en.xml.gz not found. The following files are available for downloading:\n",
      "\n",
      " 312 KB https://object.pouta.csc.fi/OPUS-JW300/v1b/xml/ab-en.xml.gz\n",
      "   3 MB https://object.pouta.csc.fi/OPUS-JW300/v1b/xml/ab.zip\n",
      " 263 MB https://object.pouta.csc.fi/OPUS-JW300/v1b/xml/en.zip\n",
      "\n",
      " 266 MB Total size\n",
      "./JW300_latest_xml_ab-en.xml.gz ... 100% of 312 KB\n",
      "./JW300_latest_xml_ab.zip ... 100% of 3 MB\n",
      "./JW300_latest_xml_en.zip ... 100% of 263 MB\n",
      "gzip: JW300_latest_xml_en-ab.xml.gz: No such file or directory\n"
     ]
    }
   ],
   "source": [
    "# Téléchargement de notre corpus\n",
    "! opus_read -d JW300 -s $src -t $tgt -wm moses -w jw300.$src jw300.$tgt -q\n",
    "\n",
    "# extraire le fichier du corpus\n",
    "! gunzip JW300_latest_xml_$src-$tgt.xml.gz"
   ]
  },
  {
   "cell_type": "code",
   "execution_count": 6,
   "metadata": {
    "colab": {
     "base_uri": "https://localhost:8080/"
    },
    "id": "AdJrG4SmQ5y7",
    "outputId": "0622f844-6c99-4a8f-f65c-17509883f562"
   },
   "outputs": [
    {
     "name": "stdout",
     "output_type": "stream",
     "text": [
      "--2021-06-24 19:43:27--  https://raw.githubusercontent.com/juliakreutzer/masakhane/master/jw300_utils/test/test.en-any.en\n",
      "Resolving raw.githubusercontent.com (raw.githubusercontent.com)... 185.199.108.133, 185.199.109.133, 185.199.110.133, ...\n",
      "Connecting to raw.githubusercontent.com (raw.githubusercontent.com)|185.199.108.133|:443... connected.\n",
      "HTTP request sent, awaiting response... 200 OK\n",
      "Length: 277791 (271K) [text/plain]\n",
      "Saving to: ‘test.en-any.en’\n",
      "\n",
      "test.en-any.en      100%[===================>] 271.28K  --.-KB/s    in 0.03s   \n",
      "\n",
      "2021-06-24 19:43:28 (9.09 MB/s) - ‘test.en-any.en’ saved [277791/277791]\n",
      "\n"
     ]
    }
   ],
   "source": [
    "! wget https://raw.githubusercontent.com/juliakreutzer/masakhane/master/jw300_utils/test/test.en-any.en\n",
    "  \n",
    "# Ainsi que le jeu de test spécifique pour cette paire de langues.\n",
    "os.environ[\"trg\"] = target_language \n",
    "os.environ[\"src\"] = source_language "
   ]
  },
  {
   "cell_type": "code",
   "execution_count": 7,
   "metadata": {
    "colab": {
     "base_uri": "https://localhost:8080/"
    },
    "id": "-XLatU0iQ5y8",
    "outputId": "7d2a91ba-2b5d-4ae8-91a8-82ec5dd79869"
   },
   "outputs": [
    {
     "name": "stdout",
     "output_type": "stream",
     "text": [
      "Loaded 3571 global test sentences to filter from the training/dev data.\n"
     ]
    }
   ],
   "source": [
    "# Lire les données de test pour les séparer de celles du train et du dev.\n",
    "# Conserver la portion anglaise dans le set pour un contrôle rapide du filtrage.\n",
    "en_test_sents = set()\n",
    "filter_test_sents = \"test.en-any.en\"\n",
    "j = 0\n",
    "with open(filter_test_sents) as f:\n",
    "  for line in f:\n",
    "    en_test_sents.add(line.strip())\n",
    "    j += 1\n",
    "print('Chargement de {} phrases de test globales à filtrer à partir des données de formation/de développement.'.format(j))"
   ]
  },
  {
   "cell_type": "code",
   "execution_count": 8,
   "metadata": {
    "colab": {
     "base_uri": "https://localhost:8080/"
    },
    "id": "ydypbA7LQ5y-",
    "outputId": "cb829240-94eb-4783-dbb7-e189bc4f8563"
   },
   "outputs": [
    {
     "name": "stdout",
     "output_type": "stream",
     "text": [
      "en-ab-baseline\tJW300_latest_xml_ab-en.xml.gz  sample_data\n",
      "jw300.ab\tJW300_latest_xml_ab.zip        test.en-any.en\n",
      "jw300.en\tJW300_latest_xml_en.zip\n"
     ]
    }
   ],
   "source": [
    "!ls"
   ]
  },
  {
   "cell_type": "markdown",
   "metadata": {
    "id": "mTsD-Ta1Q5zD"
   },
   "source": [
    "#### Construction du corpus"
   ]
  },
  {
   "cell_type": "markdown",
   "metadata": {
    "id": "8I8fMRRrQ5zF"
   },
   "source": [
    "Dans les deux cellules ci-dessous, vous pouvez vérifier si les deux ensembles de données sont alignés. Même si vous ne parlez pas la langue, vous pouvez vous faire une idée, notamment en ce qui concerne les mots similaires, la ponctuation, etc."
   ]
  },
  {
   "cell_type": "code",
   "execution_count": 9,
   "metadata": {
    "colab": {
     "base_uri": "https://localhost:8080/"
    },
    "id": "UHpOmS0xQ5zF",
    "outputId": "54d32651-3152-479f-e410-82cf3fad572c",
    "scrolled": true
   },
   "outputs": [
    {
     "name": "stdout",
     "output_type": "stream",
     "text": [
      "Table of Contents\n",
      "© 2016 Watch Tower Bible and Tract Society of Pennsylvania\n",
      "Would the world be a better place if everyone lived by this Bible principle ?\n",
      "“ We wish to conduct ourselves honestly in all things . ” ​ — Hebrews 13 : 18 .\n",
      "This issue of The Watchtower discusses how honesty touches every aspect of our life .\n"
     ]
    }
   ],
   "source": [
    "! head -5 jw300.en"
   ]
  },
  {
   "cell_type": "code",
   "execution_count": 10,
   "metadata": {
    "colab": {
     "base_uri": "https://localhost:8080/"
    },
    "id": "mgPwLbD8Q5zG",
    "outputId": "e467f1da-9278-4e85-ef32-b2ed875c1d6e"
   },
   "outputs": [
    {
     "name": "stdout",
     "output_type": "stream",
     "text": [
      "Аҵакы\n",
      "© 2016 Watch Tower Bible and Tract Society of Pennsylvania\n",
      "Еиӷьхозма адунеи , ауаа зегь ари абиблиатә принцип иқәныҟәозҭгьы ?\n",
      "« Ҳарҭ . . . иҟаҳҵо зегьы гәык - ԥсык ала , иаша - ҵабыргла иҟаҳҵоит » ( Ауриацәа рахь 13 : 18 ) .\n",
      "Ари аброшиураҿы иануп аиашара ҳаԥсҭазаара ишаныруа . Аиашара .\n"
     ]
    }
   ],
   "source": [
    "! head -5 jw300.$tgt"
   ]
  },
  {
   "cell_type": "code",
   "execution_count": 11,
   "metadata": {
    "colab": {
     "base_uri": "https://localhost:8080/",
     "height": 381
    },
    "id": "IlJP5HzhQ5zJ",
    "outputId": "2064830c-cf75-41a9-d65c-9ac3e023c0ac"
   },
   "outputs": [
    {
     "name": "stdout",
     "output_type": "stream",
     "text": [
      "Loaded data and skipped 2984/28885 lines since contained in test set.\n"
     ]
    },
    {
     "data": {
      "text/html": [
       "<div>\n",
       "<style scoped>\n",
       "    .dataframe tbody tr th:only-of-type {\n",
       "        vertical-align: middle;\n",
       "    }\n",
       "\n",
       "    .dataframe tbody tr th {\n",
       "        vertical-align: top;\n",
       "    }\n",
       "\n",
       "    .dataframe thead th {\n",
       "        text-align: right;\n",
       "    }\n",
       "</style>\n",
       "<table border=\"1\" class=\"dataframe\">\n",
       "  <thead>\n",
       "    <tr style=\"text-align: right;\">\n",
       "      <th></th>\n",
       "      <th>source_sentence</th>\n",
       "      <th>target_sentence</th>\n",
       "    </tr>\n",
       "  </thead>\n",
       "  <tbody>\n",
       "    <tr>\n",
       "      <th>0</th>\n",
       "      <td>Why It Pays to Be Honest 6</td>\n",
       "      <td>Иашарыла анхара заԥсоу 6</td>\n",
       "    </tr>\n",
       "    <tr>\n",
       "      <th>1</th>\n",
       "      <td>The Bible Changes Lives</td>\n",
       "      <td>Абиблиа аԥсҭазаара аԥсахуеит</td>\n",
       "    </tr>\n",
       "    <tr>\n",
       "      <th>2</th>\n",
       "      <td>Did You Know ?</td>\n",
       "      <td>Ижәдыруама шәара ?</td>\n",
       "    </tr>\n",
       "    <tr>\n",
       "      <th>3</th>\n",
       "      <td>10</td>\n",
       "      <td>10</td>\n",
       "    </tr>\n",
       "    <tr>\n",
       "      <th>4</th>\n",
       "      <td>Ancient Wisdom for Modern Living</td>\n",
       "      <td>Ажәытәтәи аҟәыӷара иахьатәи аԥсҭазааразы</td>\n",
       "    </tr>\n",
       "    <tr>\n",
       "      <th>5</th>\n",
       "      <td>Do Not Be Anxious 15</td>\n",
       "      <td>Шәазымхьаалан 15</td>\n",
       "    </tr>\n",
       "    <tr>\n",
       "      <th>6</th>\n",
       "      <td>What Does the Bible Say ?</td>\n",
       "      <td>Иаҳәозеи Абиблиа ?</td>\n",
       "    </tr>\n",
       "    <tr>\n",
       "      <th>7</th>\n",
       "      <td>16</td>\n",
       "      <td>16</td>\n",
       "    </tr>\n",
       "    <tr>\n",
       "      <th>8</th>\n",
       "      <td>Can the Bible Help Me if I’m Depressed ?</td>\n",
       "      <td></td>\n",
       "    </tr>\n",
       "    <tr>\n",
       "      <th>9</th>\n",
       "      <td>While reviewing a financial account with his s...</td>\n",
       "      <td>Афинанстә ҳасабырба ангәарҭоз , аусура аиҳабы ...</td>\n",
       "    </tr>\n",
       "  </tbody>\n",
       "</table>\n",
       "</div>"
      ],
      "text/plain": [
       "                                     source_sentence                                    target_sentence\n",
       "0                         Why It Pays to Be Honest 6                           Иашарыла анхара заԥсоу 6\n",
       "1                            The Bible Changes Lives                       Абиблиа аԥсҭазаара аԥсахуеит\n",
       "2                                     Did You Know ?                                 Ижәдыруама шәара ?\n",
       "3                                                 10                                                 10\n",
       "4                   Ancient Wisdom for Modern Living           Ажәытәтәи аҟәыӷара иахьатәи аԥсҭазааразы\n",
       "5                               Do Not Be Anxious 15                                   Шәазымхьаалан 15\n",
       "6                          What Does the Bible Say ?                                 Иаҳәозеи Абиблиа ?\n",
       "7                                                 16                                                 16\n",
       "8           Can the Bible Help Me if I’m Depressed ?                                                   \n",
       "9  While reviewing a financial account with his s...  Афинанстә ҳасабырба ангәарҭоз , аусура аиҳабы ..."
      ]
     },
     "execution_count": 11,
     "metadata": {
      "tags": []
     },
     "output_type": "execute_result"
    }
   ],
   "source": [
    "import pandas as pd\n",
    "\n",
    "# Fichier TMX vers dataframe\n",
    "source_file = 'jw300.' + source_language  ## la langue source est l'anglais\n",
    "target_file = 'jw300.' + target_language ## La cible est celle que vous avez définie. Pour notre exemple, c'était \"ha\", donc jw300.ha\n",
    "target_test = {}\n",
    "source = []\n",
    "target = []\n",
    "english_sentences_in_global_test_set = {}  # Collecte des numéros de ligne de la partie source pour sauter ces mêmes lignes dans la partie cible.\n",
    "with open(source_file) as src_f:\n",
    "    for i, line in enumerate(src_f):\n",
    "        # Sauter les phrases qui sont contenues dans l'ensemble de test et les ajouter dans le nouveau test français\n",
    "        if line.strip() not in en_test_sents:\n",
    "            source.append(line.strip())\n",
    "        else:\n",
    "            # Voici l'intersection avec le jeu de test global\n",
    "            english_sentences_in_global_test_set[i] = line.strip()           \n",
    "with open(target_file) as f:\n",
    "    for j, line in enumerate(f):\n",
    "        # N'ajouter au corpus que si la source correspondante n'a pas été sautée.\n",
    "        if j not in english_sentences_in_global_test_set.keys():\n",
    "            target.append(line.strip())\n",
    "        else:\n",
    "            # Collecte des phrases de test alignées\n",
    "            target_test[j] = line.strip()\n",
    "    \n",
    "print('Chargement des données et saut des lignes {}/{} puisqu\\'elles sont contenues dans l\\'ensemble de test.'.format(len(english_sentences_in_global_test_set.keys()), i))\n",
    "    \n",
    "df = pd.DataFrame(zip(source, target), columns=['source_sentence', 'target_sentence'])\n",
    "# si vous obtenez TypeError : data argument can't be an iterator c'est à cause de votre version de zip exécutez ceci ci-dessous\n",
    "#df = pd.DataFrame(list(zip(source, target)), columns=['source_sentence', 'target_sentence'])\n",
    "df.head(10)"
   ]
  },
  {
   "cell_type": "markdown",
   "metadata": {
    "id": "krpoFeY_TtrG"
   },
   "source": [
    "## Vérification d'un élément aléatoire !\n",
    "Choisissons au hasard une des clés du dictionnaire et vérifions-la."
   ]
  },
  {
   "cell_type": "code",
   "execution_count": 12,
   "metadata": {
    "colab": {
     "base_uri": "https://localhost:8080/"
    },
    "id": "aGBDbByaQ5zL",
    "outputId": "dd568d66-cb30-4481-953a-ad0771a8f209",
    "scrolled": true
   },
   "outputs": [
    {
     "name": "stdout",
     "output_type": "stream",
     "text": [
      "<class 'list'>\n",
      "The random key we picked was 8583\n"
     ]
    }
   ],
   "source": [
    "import random\n",
    "keys_in_target_test = list(target_test.keys())\n",
    "print(type(keys_in_target_test))\n",
    "random_key = random.choice(keys_in_target_test)\n",
    "print(f\"La clé aléatoire que nous avons choisie est {random_key}\")"
   ]
  },
  {
   "cell_type": "code",
   "execution_count": 13,
   "metadata": {
    "colab": {
     "base_uri": "https://localhost:8080/",
     "height": 36
    },
    "id": "b0rjaSMyUzMt",
    "outputId": "cd1c7e0e-63d1-4090-ca4c-606748e1884a"
   },
   "outputs": [
    {
     "data": {
      "application/vnd.google.colaboratory.intrinsic+json": {
       "type": "string"
      },
      "text/plain": [
       "'б ) Ишԥарылшо аизара аиҳабацәа аишьцәа доуҳатә хьчаҩцәаны иҟаларц азы қәҿиарала разыҟаҵара ?'"
      ]
     },
     "execution_count": 13,
     "metadata": {
      "tags": []
     },
     "output_type": "execute_result"
    }
   ],
   "source": [
    "target_test[random_key]"
   ]
  },
  {
   "cell_type": "code",
   "execution_count": 14,
   "metadata": {
    "colab": {
     "base_uri": "https://localhost:8080/",
     "height": 36
    },
    "id": "_H63DagnQ5zM",
    "outputId": "1424c93c-0adb-4201-ec14-cc2dcfc82895"
   },
   "outputs": [
    {
     "data": {
      "application/vnd.google.colaboratory.intrinsic+json": {
       "type": "string"
      },
      "text/plain": [
       "'( b ) How can the elders effectively train future shepherds of the congregation ?'"
      ]
     },
     "execution_count": 14,
     "metadata": {
      "tags": []
     },
     "output_type": "execute_result"
    }
   ],
   "source": [
    "english_sentences_in_global_test_set[random_key]"
   ]
  },
  {
   "cell_type": "markdown",
   "metadata": {
    "id": "Pwuc4IlEe1TR"
   },
   "source": [
    "Do the two look like they line up? "
   ]
  },
  {
   "cell_type": "markdown",
   "metadata": {
    "id": "K5mtDXEoe9NC"
   },
   "source": [
    "## Vérification de plusieurs rangs à la fin\n",
    "\n",
    "Prenons un échantillon de la fin de l'ensemble de données."
   ]
  },
  {
   "cell_type": "code",
   "execution_count": 15,
   "metadata": {
    "id": "uD7ht8dKQ5zN"
   },
   "outputs": [],
   "source": [
    "target_test_set = pd.DataFrame(zip(target_test.values(), english_sentences_in_global_test_set.values()), columns=['target_equivalent', 'english_equivalent'])"
   ]
  },
  {
   "cell_type": "code",
   "execution_count": 16,
   "metadata": {
    "id": "QclpZObEQ5zN"
   },
   "outputs": [],
   "source": [
    "target_test_set = target_test_set.reset_index()"
   ]
  },
  {
   "cell_type": "code",
   "execution_count": 17,
   "metadata": {
    "id": "TqPm3EDTQ5zN"
   },
   "outputs": [],
   "source": [
    "target_test_set = target_test_set.set_index(\"index\")"
   ]
  },
  {
   "cell_type": "code",
   "execution_count": 18,
   "metadata": {
    "colab": {
     "base_uri": "https://localhost:8080/",
     "height": 238
    },
    "id": "LnXQ31qOQ5zO",
    "outputId": "cfab93e6-95c0-4037-c0c7-77d2a1aba3a5"
   },
   "outputs": [
    {
     "data": {
      "text/html": [
       "<div>\n",
       "<style scoped>\n",
       "    .dataframe tbody tr th:only-of-type {\n",
       "        vertical-align: middle;\n",
       "    }\n",
       "\n",
       "    .dataframe tbody tr th {\n",
       "        vertical-align: top;\n",
       "    }\n",
       "\n",
       "    .dataframe thead th {\n",
       "        text-align: right;\n",
       "    }\n",
       "</style>\n",
       "<table border=\"1\" class=\"dataframe\">\n",
       "  <thead>\n",
       "    <tr style=\"text-align: right;\">\n",
       "      <th></th>\n",
       "      <th>target_equivalent</th>\n",
       "      <th>english_equivalent</th>\n",
       "    </tr>\n",
       "    <tr>\n",
       "      <th>index</th>\n",
       "      <th></th>\n",
       "      <th></th>\n",
       "    </tr>\n",
       "  </thead>\n",
       "  <tbody>\n",
       "    <tr>\n",
       "      <th>2979</th>\n",
       "      <td>( Шәахәаԥш астатиа алагамҭаҿы иаагоу асахьа . )</td>\n",
       "      <td>( See opening picture . )</td>\n",
       "    </tr>\n",
       "    <tr>\n",
       "      <th>2980</th>\n",
       "      <td>Ажәамаанақәа 14 : 15 аҿы иануп : « Аԥышәа змам...</td>\n",
       "      <td>Proverbs 14 : 15 says : “ The naive person bel...</td>\n",
       "    </tr>\n",
       "    <tr>\n",
       "      <th>2981</th>\n",
       "      <td>б ) Еилҳаргозеи анаҩстәи астатиаҿы ?</td>\n",
       "      <td>( b ) What will we discuss in the next article ?</td>\n",
       "    </tr>\n",
       "    <tr>\n",
       "      <th>2982</th>\n",
       "      <td>( Шәаԥхьа 1 Тимофеи иахь 6 : 17 — 19 . )</td>\n",
       "      <td>( Read 1 Timothy 6 : 17 - 19 . )</td>\n",
       "    </tr>\n",
       "    <tr>\n",
       "      <th>2983</th>\n",
       "      <td>Мап .</td>\n",
       "      <td>No .</td>\n",
       "    </tr>\n",
       "  </tbody>\n",
       "</table>\n",
       "</div>"
      ],
      "text/plain": [
       "                                       target_equivalent                                 english_equivalent\n",
       "index                                                                                                      \n",
       "2979     ( Шәахәаԥш астатиа алагамҭаҿы иаагоу асахьа . )                          ( See opening picture . )\n",
       "2980   Ажәамаанақәа 14 : 15 аҿы иануп : « Аԥышәа змам...  Proverbs 14 : 15 says : “ The naive person bel...\n",
       "2981                б ) Еилҳаргозеи анаҩстәи астатиаҿы ?   ( b ) What will we discuss in the next article ?\n",
       "2982            ( Шәаԥхьа 1 Тимофеи иахь 6 : 17 — 19 . )                   ( Read 1 Timothy 6 : 17 - 19 . )\n",
       "2983                                               Мап .                                               No ."
      ]
     },
     "execution_count": 18,
     "metadata": {
      "tags": []
     },
     "output_type": "execute_result"
    }
   ],
   "source": [
    "target_test_set.tail()"
   ]
  },
  {
   "cell_type": "markdown",
   "metadata": {
    "id": "r-7KKhEcQ5zO"
   },
   "source": [
    "Suppression des doublons dans les ensembles anglais et cible"
   ]
  },
  {
   "cell_type": "code",
   "execution_count": 19,
   "metadata": {
    "id": "Y0sCRCX2Q5zO"
   },
   "outputs": [],
   "source": [
    "target_test_set = target_test_set.drop_duplicates(subset='target_equivalent')"
   ]
  },
  {
   "cell_type": "code",
   "execution_count": 20,
   "metadata": {
    "id": "6biqqTgUQ5zP"
   },
   "outputs": [],
   "source": [
    "target_test_set = target_test_set.drop_duplicates(subset='english_equivalent')"
   ]
  },
  {
   "cell_type": "code",
   "execution_count": 21,
   "metadata": {
    "colab": {
     "base_uri": "https://localhost:8080/",
     "height": 238
    },
    "id": "IrqizJY3Q5zQ",
    "outputId": "05a489b6-7189-40f4-861b-c62610bac2e4"
   },
   "outputs": [
    {
     "data": {
      "text/html": [
       "<div>\n",
       "<style scoped>\n",
       "    .dataframe tbody tr th:only-of-type {\n",
       "        vertical-align: middle;\n",
       "    }\n",
       "\n",
       "    .dataframe tbody tr th {\n",
       "        vertical-align: top;\n",
       "    }\n",
       "\n",
       "    .dataframe thead th {\n",
       "        text-align: right;\n",
       "    }\n",
       "</style>\n",
       "<table border=\"1\" class=\"dataframe\">\n",
       "  <thead>\n",
       "    <tr style=\"text-align: right;\">\n",
       "      <th></th>\n",
       "      <th>target_equivalent</th>\n",
       "      <th>english_equivalent</th>\n",
       "    </tr>\n",
       "    <tr>\n",
       "      <th>index</th>\n",
       "      <th></th>\n",
       "      <th></th>\n",
       "    </tr>\n",
       "  </thead>\n",
       "  <tbody>\n",
       "    <tr>\n",
       "      <th>0</th>\n",
       "      <td>Аҵакы</td>\n",
       "      <td>Table of Contents</td>\n",
       "    </tr>\n",
       "    <tr>\n",
       "      <th>1</th>\n",
       "      <td>© 2016 Watch Tower Bible and Tract Society of ...</td>\n",
       "      <td>© 2016 Watch Tower Bible and Tract Society of ...</td>\n",
       "    </tr>\n",
       "    <tr>\n",
       "      <th>2</th>\n",
       "      <td>Еиӷьхозма адунеи , ауаа зегь ари абиблиатә при...</td>\n",
       "      <td>Would the world be a better place if everyone ...</td>\n",
       "    </tr>\n",
       "    <tr>\n",
       "      <th>3</th>\n",
       "      <td>« Ҳарҭ . . . иҟаҳҵо зегьы гәык - ԥсык ала , иа...</td>\n",
       "      <td>“ We wish to conduct ourselves honestly in all...</td>\n",
       "    </tr>\n",
       "    <tr>\n",
       "      <th>4</th>\n",
       "      <td>Ари аброшиураҿы иануп аиашара ҳаԥсҭазаара ишан...</td>\n",
       "      <td>This issue of The Watchtower discusses how hon...</td>\n",
       "    </tr>\n",
       "  </tbody>\n",
       "</table>\n",
       "</div>"
      ],
      "text/plain": [
       "                                       target_equivalent                                 english_equivalent\n",
       "index                                                                                                      \n",
       "0                                                  Аҵакы                                  Table of Contents\n",
       "1      © 2016 Watch Tower Bible and Tract Society of ...  © 2016 Watch Tower Bible and Tract Society of ...\n",
       "2      Еиӷьхозма адунеи , ауаа зегь ари абиблиатә при...  Would the world be a better place if everyone ...\n",
       "3      « Ҳарҭ . . . иҟаҳҵо зегьы гәык - ԥсык ала , иа...  “ We wish to conduct ourselves honestly in all...\n",
       "4      Ари аброшиураҿы иануп аиашара ҳаԥсҭазаара ишан...  This issue of The Watchtower discusses how hon..."
      ]
     },
     "execution_count": 21,
     "metadata": {
      "tags": []
     },
     "output_type": "execute_result"
    }
   ],
   "source": [
    "target_test_set.head()"
   ]
  },
  {
   "cell_type": "code",
   "execution_count": 22,
   "metadata": {
    "colab": {
     "base_uri": "https://localhost:8080/"
    },
    "id": "TJDI9P-LQ5zS",
    "outputId": "2de259d1-f316-4be0-b821-0a1b1f8b8340"
   },
   "outputs": [
    {
     "data": {
      "text/plain": [
       "(2516, 2)"
      ]
     },
     "execution_count": 22,
     "metadata": {
      "tags": []
     },
     "output_type": "execute_result"
    }
   ],
   "source": [
    "target_test_set.shape"
   ]
  },
  {
   "cell_type": "code",
   "execution_count": 23,
   "metadata": {
    "colab": {
     "base_uri": "https://localhost:8080/",
     "height": 81
    },
    "id": "jyWb1BPsQ5zT",
    "outputId": "45b4a993-5bb5-4d55-d894-41bd1aa0785c"
   },
   "outputs": [
    {
     "data": {
      "text/html": [
       "<div>\n",
       "<style scoped>\n",
       "    .dataframe tbody tr th:only-of-type {\n",
       "        vertical-align: middle;\n",
       "    }\n",
       "\n",
       "    .dataframe tbody tr th {\n",
       "        vertical-align: top;\n",
       "    }\n",
       "\n",
       "    .dataframe thead th {\n",
       "        text-align: right;\n",
       "    }\n",
       "</style>\n",
       "<table border=\"1\" class=\"dataframe\">\n",
       "  <thead>\n",
       "    <tr style=\"text-align: right;\">\n",
       "      <th></th>\n",
       "      <th>target_equivalent</th>\n",
       "      <th>english_equivalent</th>\n",
       "    </tr>\n",
       "    <tr>\n",
       "      <th>index</th>\n",
       "      <th></th>\n",
       "      <th></th>\n",
       "    </tr>\n",
       "  </thead>\n",
       "  <tbody>\n",
       "  </tbody>\n",
       "</table>\n",
       "</div>"
      ],
      "text/plain": [
       "Empty DataFrame\n",
       "Columns: [target_equivalent, english_equivalent]\n",
       "Index: []"
      ]
     },
     "execution_count": 23,
     "metadata": {
      "tags": []
     },
     "output_type": "execute_result"
    }
   ],
   "source": [
    "target_test_set.loc[~target_test_set.english_equivalent.isin(en_test_sents)]"
   ]
  },
  {
   "cell_type": "markdown",
   "metadata": {
    "id": "iFBOZerTjxSI"
   },
   "source": [
    "## Écriture d'un fichier d'ensembles de tests dans la langue cible\n",
    "Dans notre exemple, nous devrions avoir `test.ha-any.ha`, mais ce sera différent pour vous si vous avez choisi un code différent."
   ]
  },
  {
   "cell_type": "code",
   "execution_count": 25,
   "metadata": {
    "colab": {
     "base_uri": "https://localhost:8080/"
    },
    "id": "C6zxiOfdVab2",
    "outputId": "798b9666-12d3-4af3-d4ab-d941ad15b932"
   },
   "outputs": [
    {
     "name": "stdout",
     "output_type": "stream",
     "text": [
      "test.ab-any.ab\n"
     ]
    }
   ],
   "source": [
    "target_test_filename = f\"test.{target_language}-any.{target_language}\"\n",
    "print(target_test_filename)"
   ]
  },
  {
   "cell_type": "markdown",
   "metadata": {
    "id": "3LXXXfwjfZQq"
   },
   "source": [
    "## Écriture d'un fichier d'ensembles de tests dans la langue Anglaise\n",
    "Dans notre exemple, nous devrions avoir `test.en-ha.en`, mais ce sera différent pour vous si vous avez choisi un code différent.\n",
    "\n",
    "**Vérifier que les données s'alignent dans les deux fichiers !**\n",
    "La première ligne de chaque fichier doit être une traduction de l'autre.\n"
   ]
  },
  {
   "cell_type": "code",
   "execution_count": 26,
   "metadata": {
    "id": "CpFWMOhdQ5zU"
   },
   "outputs": [],
   "source": [
    "\n",
    "with open(target_test_filename, \"w\") as test_tgt_any_tgt:\n",
    "    test_tgt_any_tgt.write(\"\\n\".join(target_test_set.target_equivalent))"
   ]
  },
  {
   "cell_type": "code",
   "execution_count": 27,
   "metadata": {
    "colab": {
     "base_uri": "https://localhost:8080/"
    },
    "id": "cnZUf97gQ5zV",
    "outputId": "ccd26d8a-e87d-4514-fcba-57ee1e036d97"
   },
   "outputs": [
    {
     "name": "stdout",
     "output_type": "stream",
     "text": [
      "Аҵакы\n",
      "© 2016 Watch Tower Bible and Tract Society of Pennsylvania\n",
      "Еиӷьхозма адунеи , ауаа зегь ари абиблиатә принцип иқәныҟәозҭгьы ?\n",
      "« Ҳарҭ . . . иҟаҳҵо зегьы гәык - ԥсык ала , иаша - ҵабыргла иҟаҳҵоит » ( Ауриацәа рахь 13 : 18 ) .\n",
      "Ари аброшиураҿы иануп аиашара ҳаԥсҭазаара ишаныруа . Аиашара .\n"
     ]
    }
   ],
   "source": [
    "!head -5 test.$tgt-any.$tgt"
   ]
  },
  {
   "cell_type": "code",
   "execution_count": 28,
   "metadata": {
    "colab": {
     "base_uri": "https://localhost:8080/"
    },
    "id": "HZ93jNULQ5zV",
    "outputId": "3bf67b4f-245b-40eb-b545-34f079f9448e"
   },
   "outputs": [
    {
     "name": "stdout",
     "output_type": "stream",
     "text": [
      "saving english aligned sentences to test.en-ab.en\n",
      "total 272920\n",
      "drwxr-xr-x 1 root root      4096 Jun 24 19:46 .\n",
      "drwxr-xr-x 1 root root      4096 Jun 24 19:36 ..\n",
      "drwxr-xr-x 4 root root      4096 Jun 15 13:37 .config\n",
      "drwxr-xr-x 2 root root      4096 Jun 24 19:42 en-ab-baseline\n",
      "-rw-r--r-- 1 root root   4044520 Jun 24 19:43 jw300.ab\n",
      "-rw-r--r-- 1 root root   2329929 Jun 24 19:43 jw300.en\n",
      "-rw-r--r-- 1 root root    318785 Jun 24 19:42 JW300_latest_xml_ab-en.xml.gz\n",
      "-rw-r--r-- 1 root root   2596928 Jun 24 19:43 JW300_latest_xml_ab.zip\n",
      "-rw-r--r-- 1 root root 269378154 Jun 24 19:43 JW300_latest_xml_en.zip\n",
      "drwxr-xr-x 1 root root      4096 Jun 15 13:37 sample_data\n",
      "-rw-r--r-- 1 root root    300741 Jun 24 19:46 test.ab-any.ab\n",
      "-rw-r--r-- 1 root root    185786 Jun 24 19:46 test.en-ab.en\n",
      "-rw-r--r-- 1 root root    277791 Jun 24 19:43 test.en-any.en\n"
     ]
    }
   ],
   "source": [
    "source_test_filename = f\"test.en-{target_language}.en\"\n",
    "print(f\"Sauvegarde des phrases en anglais alignées sur {source_test_filename}\")\n",
    "with open(source_test_filename, \"w\") as test_en_tgt_en:\n",
    "    test_en_tgt_en.write(\"\\n\".join(target_test_set.english_equivalent))\n",
    "!ls -al"
   ]
  },
  {
   "cell_type": "code",
   "execution_count": 29,
   "metadata": {
    "colab": {
     "base_uri": "https://localhost:8080/"
    },
    "id": "zKW2y01hbOyc",
    "outputId": "4ef78ddf-87fb-4bb5-8612-704c6fc8c09d"
   },
   "outputs": [
    {
     "name": "stdout",
     "output_type": "stream",
     "text": [
      "Table of Contents\n",
      "© 2016 Watch Tower Bible and Tract Society of Pennsylvania\n",
      "Would the world be a better place if everyone lived by this Bible principle ?\n",
      "“ We wish to conduct ourselves honestly in all things . ” ​ — Hebrews 13 : 18 .\n",
      "This issue of The Watchtower discusses how honesty touches every aspect of our life .\n"
     ]
    }
   ],
   "source": [
    "!head -5 test.en-$tgt.en"
   ]
  },
  {
   "cell_type": "markdown",
   "metadata": {
    "id": "kr79AnMtfxyQ"
   },
   "source": [
    "## Une dernière vérification pour voir si les deux fichiers sont alignés\n",
    "\n",
    "Prenons juste un échantillon de plus ! Prenons à la fin cette fois."
   ]
  },
  {
   "cell_type": "code",
   "execution_count": 30,
   "metadata": {
    "colab": {
     "base_uri": "https://localhost:8080/"
    },
    "id": "gvmVNumtf3sC",
    "outputId": "65b7ab0f-4fab-48a8-a9f2-ba744c24482d"
   },
   "outputs": [
    {
     "name": "stdout",
     "output_type": "stream",
     "text": [
      "test.en-ab.en\n",
      "The sword of the spirit ( See paragraphs 19 - 20 )\n",
      "With Jehovah’s help , we can stand firm against him !\n",
      "( Read Hebrews 11 : 24 - 27 . )\n",
      "( Read Luke 10 : 29 - 37 . )\n",
      "Proverbs 14 : 15 says : “ The naive person believes every word , but the shrewd one ponders each step . ”\n",
      "**********************\n",
      "test.ab-any.ab\n",
      "**********************\n",
      "Адоуҳатә бџьар , аҳәа ( Шәрыхәаԥш абзацқәа 19 — 20 . )\n",
      "Иегова ицхыраарала ҳара иҳалшоит уи иҿагылара !\n",
      "( Шәаԥхьа Ауриацәа рахь 11 : 24 — 27 . )\n",
      "( Шәаԥхьа Лука 10 : 29 — 37 . )\n",
      "Ажәамаанақәа 14 : 15 аҿы иануп : « Аԥышәа змам иарбан ажәазаалакгьы агәра игоит , аилкаара змоу ауаҩы ишьаҿақәа заа дрызхәыцуеит » ."
     ]
    }
   ],
   "source": [
    "!echo \"test.en-$tgt.en\"\n",
    "!tail -5 test.en-$tgt.en\n",
    "!echo\n",
    "!echo \"**********************\"\n",
    "!echo \"test.$tgt-any.$tgt\"\n",
    "!echo \"**********************\"\n",
    "!tail -5 test.$tgt-any.$tgt"
   ]
  },
  {
   "cell_type": "code",
   "execution_count": null,
   "metadata": {
    "id": "P2miJypOj0rg"
   },
   "outputs": [],
   "source": []
  }
 ],
 "metadata": {
  "colab": {
   "collapsed_sections": [],
   "name": "building_global_test_set.ipynb",
   "provenance": []
  },
  "kernelspec": {
   "display_name": "Python 3",
   "language": "python",
   "name": "python3"
  },
  "language_info": {
   "codemirror_mode": {
    "name": "ipython",
    "version": 3
   },
   "file_extension": ".py",
   "mimetype": "text/x-python",
   "name": "python",
   "nbconvert_exporter": "python",
   "pygments_lexer": "ipython3",
   "version": "3.8.5"
  }
 },
 "nbformat": 4,
 "nbformat_minor": 4
}

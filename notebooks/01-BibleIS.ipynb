{
  "cells": [
    {
      "cell_type": "markdown",
      "metadata": {
        "id": "view-in-github",
        "colab_type": "text"
      },
      "source": [
        "<a href=\"https://colab.research.google.com/github/Kabongosalomon/masakhane-traduction-automatique/blob/notebooks/notebooks/01-BibleIS.ipynb\" target=\"_parent\"><img src=\"https://colab.research.google.com/assets/colab-badge.svg\" alt=\"Open In Colab\"/></a>"
      ]
    },
    {
      "cell_type": "code",
      "execution_count": 1,
      "metadata": {
        "id": "i6TmFDLwpTxZ",
        "outputId": "60a4dbef-60dc-4f9c-9969-ab1c4a544170",
        "colab": {
          "base_uri": "https://localhost:8080/"
        }
      },
      "outputs": [
        {
          "output_type": "stream",
          "name": "stdout",
          "text": [
            "\u001b[?25l\r\u001b[K     |▍                               | 10 kB 23.5 MB/s eta 0:00:01\r\u001b[K     |▊                               | 20 kB 27.8 MB/s eta 0:00:01\r\u001b[K     |█                               | 30 kB 33.3 MB/s eta 0:00:01\r\u001b[K     |█▍                              | 40 kB 25.0 MB/s eta 0:00:01\r\u001b[K     |█▊                              | 51 kB 18.6 MB/s eta 0:00:01\r\u001b[K     |██                              | 61 kB 21.3 MB/s eta 0:00:01\r\u001b[K     |██▍                             | 71 kB 20.4 MB/s eta 0:00:01\r\u001b[K     |██▊                             | 81 kB 21.9 MB/s eta 0:00:01\r\u001b[K     |███                             | 92 kB 23.7 MB/s eta 0:00:01\r\u001b[K     |███▍                            | 102 kB 25.4 MB/s eta 0:00:01\r\u001b[K     |███▊                            | 112 kB 25.4 MB/s eta 0:00:01\r\u001b[K     |████                            | 122 kB 25.4 MB/s eta 0:00:01\r\u001b[K     |████▍                           | 133 kB 25.4 MB/s eta 0:00:01\r\u001b[K     |████▊                           | 143 kB 25.4 MB/s eta 0:00:01\r\u001b[K     |█████                           | 153 kB 25.4 MB/s eta 0:00:01\r\u001b[K     |█████▍                          | 163 kB 25.4 MB/s eta 0:00:01\r\u001b[K     |█████▊                          | 174 kB 25.4 MB/s eta 0:00:01\r\u001b[K     |██████                          | 184 kB 25.4 MB/s eta 0:00:01\r\u001b[K     |██████▍                         | 194 kB 25.4 MB/s eta 0:00:01\r\u001b[K     |██████▊                         | 204 kB 25.4 MB/s eta 0:00:01\r\u001b[K     |███████                         | 215 kB 25.4 MB/s eta 0:00:01\r\u001b[K     |███████▍                        | 225 kB 25.4 MB/s eta 0:00:01\r\u001b[K     |███████▊                        | 235 kB 25.4 MB/s eta 0:00:01\r\u001b[K     |████████                        | 245 kB 25.4 MB/s eta 0:00:01\r\u001b[K     |████████▍                       | 256 kB 25.4 MB/s eta 0:00:01\r\u001b[K     |████████▊                       | 266 kB 25.4 MB/s eta 0:00:01\r\u001b[K     |█████████                       | 276 kB 25.4 MB/s eta 0:00:01\r\u001b[K     |█████████▍                      | 286 kB 25.4 MB/s eta 0:00:01\r\u001b[K     |█████████▊                      | 296 kB 25.4 MB/s eta 0:00:01\r\u001b[K     |██████████                      | 307 kB 25.4 MB/s eta 0:00:01\r\u001b[K     |██████████▍                     | 317 kB 25.4 MB/s eta 0:00:01\r\u001b[K     |██████████▊                     | 327 kB 25.4 MB/s eta 0:00:01\r\u001b[K     |███████████                     | 337 kB 25.4 MB/s eta 0:00:01\r\u001b[K     |███████████▍                    | 348 kB 25.4 MB/s eta 0:00:01\r\u001b[K     |███████████▊                    | 358 kB 25.4 MB/s eta 0:00:01\r\u001b[K     |████████████                    | 368 kB 25.4 MB/s eta 0:00:01\r\u001b[K     |████████████▍                   | 378 kB 25.4 MB/s eta 0:00:01\r\u001b[K     |████████████▊                   | 389 kB 25.4 MB/s eta 0:00:01\r\u001b[K     |█████████████                   | 399 kB 25.4 MB/s eta 0:00:01\r\u001b[K     |█████████████▍                  | 409 kB 25.4 MB/s eta 0:00:01\r\u001b[K     |█████████████▊                  | 419 kB 25.4 MB/s eta 0:00:01\r\u001b[K     |██████████████                  | 430 kB 25.4 MB/s eta 0:00:01\r\u001b[K     |██████████████▍                 | 440 kB 25.4 MB/s eta 0:00:01\r\u001b[K     |██████████████▊                 | 450 kB 25.4 MB/s eta 0:00:01\r\u001b[K     |███████████████                 | 460 kB 25.4 MB/s eta 0:00:01\r\u001b[K     |███████████████▍                | 471 kB 25.4 MB/s eta 0:00:01\r\u001b[K     |███████████████▊                | 481 kB 25.4 MB/s eta 0:00:01\r\u001b[K     |████████████████                | 491 kB 25.4 MB/s eta 0:00:01\r\u001b[K     |████████████████▍               | 501 kB 25.4 MB/s eta 0:00:01\r\u001b[K     |████████████████▊               | 512 kB 25.4 MB/s eta 0:00:01\r\u001b[K     |█████████████████               | 522 kB 25.4 MB/s eta 0:00:01\r\u001b[K     |█████████████████▍              | 532 kB 25.4 MB/s eta 0:00:01\r\u001b[K     |█████████████████▊              | 542 kB 25.4 MB/s eta 0:00:01\r\u001b[K     |██████████████████              | 552 kB 25.4 MB/s eta 0:00:01\r\u001b[K     |██████████████████▍             | 563 kB 25.4 MB/s eta 0:00:01\r\u001b[K     |██████████████████▊             | 573 kB 25.4 MB/s eta 0:00:01\r\u001b[K     |███████████████████             | 583 kB 25.4 MB/s eta 0:00:01\r\u001b[K     |███████████████████▍            | 593 kB 25.4 MB/s eta 0:00:01\r\u001b[K     |███████████████████▊            | 604 kB 25.4 MB/s eta 0:00:01\r\u001b[K     |████████████████████            | 614 kB 25.4 MB/s eta 0:00:01\r\u001b[K     |████████████████████▍           | 624 kB 25.4 MB/s eta 0:00:01\r\u001b[K     |████████████████████▊           | 634 kB 25.4 MB/s eta 0:00:01\r\u001b[K     |█████████████████████           | 645 kB 25.4 MB/s eta 0:00:01\r\u001b[K     |█████████████████████▍          | 655 kB 25.4 MB/s eta 0:00:01\r\u001b[K     |█████████████████████▊          | 665 kB 25.4 MB/s eta 0:00:01\r\u001b[K     |██████████████████████          | 675 kB 25.4 MB/s eta 0:00:01\r\u001b[K     |██████████████████████▍         | 686 kB 25.4 MB/s eta 0:00:01\r\u001b[K     |██████████████████████▊         | 696 kB 25.4 MB/s eta 0:00:01\r\u001b[K     |███████████████████████         | 706 kB 25.4 MB/s eta 0:00:01\r\u001b[K     |███████████████████████▍        | 716 kB 25.4 MB/s eta 0:00:01\r\u001b[K     |███████████████████████▊        | 727 kB 25.4 MB/s eta 0:00:01\r\u001b[K     |████████████████████████        | 737 kB 25.4 MB/s eta 0:00:01\r\u001b[K     |████████████████████████▍       | 747 kB 25.4 MB/s eta 0:00:01\r\u001b[K     |████████████████████████▊       | 757 kB 25.4 MB/s eta 0:00:01\r\u001b[K     |█████████████████████████       | 768 kB 25.4 MB/s eta 0:00:01\r\u001b[K     |█████████████████████████▍      | 778 kB 25.4 MB/s eta 0:00:01\r\u001b[K     |█████████████████████████▊      | 788 kB 25.4 MB/s eta 0:00:01\r\u001b[K     |██████████████████████████      | 798 kB 25.4 MB/s eta 0:00:01\r\u001b[K     |██████████████████████████▍     | 808 kB 25.4 MB/s eta 0:00:01\r\u001b[K     |██████████████████████████▊     | 819 kB 25.4 MB/s eta 0:00:01\r\u001b[K     |███████████████████████████     | 829 kB 25.4 MB/s eta 0:00:01\r\u001b[K     |███████████████████████████▍    | 839 kB 25.4 MB/s eta 0:00:01\r\u001b[K     |███████████████████████████▊    | 849 kB 25.4 MB/s eta 0:00:01\r\u001b[K     |████████████████████████████    | 860 kB 25.4 MB/s eta 0:00:01\r\u001b[K     |████████████████████████████▍   | 870 kB 25.4 MB/s eta 0:00:01\r\u001b[K     |████████████████████████████▊   | 880 kB 25.4 MB/s eta 0:00:01\r\u001b[K     |█████████████████████████████   | 890 kB 25.4 MB/s eta 0:00:01\r\u001b[K     |█████████████████████████████▍  | 901 kB 25.4 MB/s eta 0:00:01\r\u001b[K     |█████████████████████████████▊  | 911 kB 25.4 MB/s eta 0:00:01\r\u001b[K     |██████████████████████████████  | 921 kB 25.4 MB/s eta 0:00:01\r\u001b[K     |██████████████████████████████▍ | 931 kB 25.4 MB/s eta 0:00:01\r\u001b[K     |██████████████████████████████▊ | 942 kB 25.4 MB/s eta 0:00:01\r\u001b[K     |███████████████████████████████ | 952 kB 25.4 MB/s eta 0:00:01\r\u001b[K     |███████████████████████████████▍| 962 kB 25.4 MB/s eta 0:00:01\r\u001b[K     |███████████████████████████████▊| 972 kB 25.4 MB/s eta 0:00:01\r\u001b[K     |████████████████████████████████| 981 kB 25.4 MB/s \n",
            "\u001b[K     |████████████████████████████████| 358 kB 57.5 MB/s \n",
            "\u001b[K     |████████████████████████████████| 138 kB 56.1 MB/s \n",
            "\u001b[K     |████████████████████████████████| 4.0 MB 54.6 MB/s \n",
            "\u001b[K     |████████████████████████████████| 55 kB 4.4 MB/s \n",
            "\u001b[K     |████████████████████████████████| 58 kB 6.5 MB/s \n",
            "\u001b[31mERROR: pip's dependency resolver does not currently take into account all the packages that are installed. This behaviour is the source of the following dependency conflicts.\n",
            "requests 2.23.0 requires urllib3!=1.25.0,!=1.25.1,<1.26,>=1.21.1, but you have urllib3 1.26.9 which is incompatible.\n",
            "datascience 0.10.6 requires folium==0.2.1, but you have folium 0.8.3 which is incompatible.\u001b[0m\n",
            "\u001b[K     |████████████████████████████████| 793 kB 29.9 MB/s \n",
            "\u001b[K     |████████████████████████████████| 381 kB 55.5 MB/s \n",
            "\u001b[?25h  Building wheel for ipdb (setup.py) ... \u001b[?25l\u001b[?25hdone\n",
            "\u001b[31mERROR: pip's dependency resolver does not currently take into account all the packages that are installed. This behaviour is the source of the following dependency conflicts.\n",
            "jupyter-console 5.2.0 requires prompt-toolkit<2.0.0,>=1.0.0, but you have prompt-toolkit 3.0.29 which is incompatible.\n",
            "google-colab 1.0.0 requires ipython~=5.5.0, but you have ipython 7.34.0 which is incompatible.\u001b[0m\n"
          ]
        }
      ],
      "source": [
        "# Packages to install \n",
        "\n",
        "!pip install -q selenium \n",
        "!pip install -q BeautifulSoup4\n",
        "!pip install -q ipdb"
      ]
    },
    {
      "cell_type": "code",
      "execution_count": 2,
      "metadata": {
        "id": "ETtm85d6pTxc",
        "outputId": "8232f3b5-45c4-48d6-83c6-8a64d1de9c79",
        "colab": {
          "base_uri": "https://localhost:8080/"
        }
      },
      "outputs": [
        {
          "output_type": "stream",
          "name": "stderr",
          "text": [
            "/usr/local/lib/python3.7/dist-packages/requests/__init__.py:91: RequestsDependencyWarning: urllib3 (1.26.9) or chardet (3.0.4) doesn't match a supported version!\n",
            "  RequestsDependencyWarning)\n"
          ]
        }
      ],
      "source": [
        "import requests as rq\n",
        "import bs4 as bs\n",
        "import json\n",
        "import traceback\n",
        "import re\n",
        "import numpy as np\n",
        "import json\n",
        "from selenium import webdriver\n",
        "from selenium.webdriver.support.ui import WebDriverWait\n",
        "from selenium.webdriver.common.by import By\n",
        "from selenium.webdriver.support import expected_conditions as EC\n",
        "import time\n",
        "import glob, os\n",
        "import ipdb\n",
        "from bs4 import BeautifulSoup"
      ]
    },
    {
      "cell_type": "code",
      "execution_count": 3,
      "metadata": {
        "id": "13CcSP77pTxd",
        "outputId": "960dbbc5-a2f3-4fb8-d4fa-51c79c2910d2",
        "colab": {
          "base_uri": "https://localhost:8080/"
        }
      },
      "outputs": [
        {
          "output_type": "stream",
          "name": "stdout",
          "text": [
            "And the heavens and the earth were finished, and all the host of them.\n",
            "And on the seventh day God finished his work which he had made; and he rested on the seventh day from all his work which he had made.\n",
            "And God blessed the seventh day, and hallowed it; because that in it he rested from all his work which God had created and made.\n",
            "These are the generations of the heavens and of the earth when they were created, in the day that Jehovah God made earth and heaven.\n",
            "And no plant of the field was yet in the earth, and no herb of the field had yet sprung up; for Jehovah God had not caused it to rain upon the earth: and there was not a man to till the ground;\n",
            "but there went up a mist from the earth, and watered the whole face of the ground.\n",
            "And Jehovah God formed man of the dust of the ground, and breathed into his nostrils the breath of life; and man became a living soul.\n",
            "And Jehovah God planted a garden eastward, in Eden; and there he put the man whom he had formed.\n",
            "And out of the ground made Jehovah God to grow every tree that is pleasant to the sight, and good for food; the tree of life also in the midst of the garden, and the tree of the knowledge of good and evil.\n",
            "And a river went out of Eden to water the garden; and from thence it was parted, and became four heads.\n",
            "The name of the first is Pishon: that is it which compasseth the whole land of Havilah, where there is gold;\n",
            "and the gold of that land is good: there is bdellium and the onyx stone.\n",
            "And the name of the second river is Gihon: the same is it that compasseth the whole land of Cush.\n",
            "And the name of the third river is Hiddekel: that is it which goeth in front of Assyria. And the fourth river is the Euphrates.\n",
            "And Jehovah God took the man, and put him into the garden of Eden to dress it and to keep it.\n",
            "And Jehovah God commanded the man, saying, Of every tree of the garden thou mayest freely eat:\n",
            "but of the tree of the knowledge of good and evil, thou shalt not eat of it: for in the day that thou eatest thereof thou shalt surely die.\n",
            "And Jehovah God said, It is not good that the man should be alone; I will make him a help meet for him.\n",
            "And out of the ground Jehovah God formed every beast of the field, and every bird of the heavens; and brought them unto the man to see what he would call them: and whatsoever the man called every living creature, that was the name thereof.\n",
            "And the man gave names to all cattle, and to the birds of the heavens, and to every beast of the field; but for man there was not found a help meet for him.\n",
            "And Jehovah God caused a deep sleep to fall upon the man, and he slept; and he took one of his ribs, and closed up the flesh instead thereof:\n",
            "and the rib, which Jehovah God had taken from the man, made he a woman, and brought her unto the man.\n",
            "And the man said, This is now bone of my bones, and flesh of my flesh: she shall be called Woman, because she was taken out of Man.\n",
            "Therefore shall a man leave his father and his mother, and shall cleave unto his wife: and they shall be one flesh.\n",
            "And they were both naked, the man and his wife, and were not ashamed.\n",
            "Copyrighted Material\n",
            "Learn More\n",
            "©\n",
            "Bible.is\n",
            ", a ministry of\n",
            "Faith Comes By Hearing\n",
            "®.\n",
            "Terms and Conditions\n",
            "Help & Support\n",
            "Prev\n",
            "Play\n",
            "Next\n",
            "Autoplay\n",
            "Volume\n",
            "Speed\n"
          ]
        }
      ],
      "source": [
        "# request = rq.get('https://live.bible.is/bible/EN1ESV/psa/90')\n",
        "request = rq.get(\"https://live.bible.is/bible/ENGASV/GEN/2\")\n",
        "\n",
        "html = request.content\n",
        "\n",
        "# soupy = BeautifulSoup(html,'lxml') \n",
        "soup = BeautifulSoup(html,'html.parser') \n",
        "\n",
        "s = soup.find_all(\"span\", {\"class\": \"\"})\n",
        "# # s = soup.find_all(\"div\", {\"class\": \"\"})\n",
        "# # print(s)\n",
        "for t in s:\n",
        "    print(t.text)"
      ]
    },
    {
      "cell_type": "code",
      "execution_count": 67,
      "metadata": {
        "id": "0qd8pebWpTxe",
        "outputId": "efd3faaf-f29c-47d8-ea44-bb7f42fa3e08",
        "colab": {
          "base_uri": "https://localhost:8080/"
        }
      },
      "outputs": [
        {
          "output_type": "stream",
          "name": "stdout",
          "text": [
            "Audio Only|| None\n",
            "Copyrighted Material|| None\n",
            "Learn More|| None\n",
            "©|| None\n",
            "Bible.is|| None\n",
            ", a ministry of|| None\n",
            "Faith Comes By Hearing|| None\n",
            "®.|| None\n",
            "Terms and Conditions|| None\n",
            "Help & Support|| None\n",
            "Prev|| None\n",
            "Play|| None\n",
            "Next|| None\n",
            "Autoplay|| None\n",
            "Volume|| None\n",
            "Speed|| None\n"
          ]
        }
      ],
      "source": [
        "lang_key=\"https://live.bible.is/bible/FRABIB/\"\n",
        "book=\"GEN\"\n",
        "verse=\"1\"\n",
        "\n",
        "request = rq.get(lang_key\\\n",
        "                            +str(book)+'/'+str(verse))\n",
        "html = request.content\n",
        "soup = BeautifulSoup(html, 'html.parser') \n",
        "s = soup.find_all(\"span\", {\"class\": \"\"})\n",
        "\n",
        "\n",
        "lang_key_=\"https://live.bible.is/bible/ENGASV/\"\n",
        "book_=\"GEN\"\n",
        "verse_=\"1\"\n",
        "\n",
        "request = rq.get(lang_key_\\\n",
        "                            +str(book_)+'/'+str(verse_))\n",
        "html_ = request.content\n",
        "soup_ = BeautifulSoup(html, 'html.parser') \n",
        "s_ = soup.find_all(\"span\", {\"class\": \"\"})\n",
        "\n",
        "for t, t_ in zip(s, s_):\n",
        "    print(f\"{t.text} || {t_.textt}\")\n",
        "\n",
        "# # # help get extra text read before the first verse\n",
        "# s_script = soup.find_all('script')\n",
        "\n",
        "# extra = \"\"\n",
        "# if (len(str(s_scipt[6].string).split('class=\\\\\"d\\\\\"')) > 1):\n",
        "#     line = str(s_scipt[6].string).split('class=\\\\\"d\\\\\"')[2].split('class=\\\\\"q\\\\')[0]\n",
        "#     extra = \" \".join(re.findall('([A-Z]+)', line))\n",
        "    \n",
        "\n",
        "# if len(Bible_dict) == 39: \n",
        "#     key_caracter = \"A\"\n",
        "# else :\n",
        "#     key_caracter = \"B\"\n",
        "    \n",
        "# #                 # This was added to quickly get book with extra content (but need to be commented for the nomal process)    \n",
        "# #                 if (extra !=\"\"):\n",
        "# #                     save.add(output+key_caracter+str(Bible_dict[book][0]).zfill(2)+\"_\"+str(verse).zfill(3))\n",
        "# #                     continue\n",
        "# #                 else:\n",
        "# #                     continue\n",
        "\n",
        "\n",
        "# with open(output+key_caracter+str(Bible_dict[book][0]).zfill(2)+\"_\"+str(verse).zfill(3)+\".txt\", \"w\") as text_file:\n",
        "\n",
        "\n",
        "# #                     text_file.write(str(Bible_dict[book][1])+\" \"+str(verse)+\"  \") # 6 space\n",
        "# #                     text_file.write(f\"  {extra}  \")\n",
        "    \n",
        "#     text_file.write(str(Bible_dict[book][1])+\" \"+str(verse)+\"\\n\") # 6 space\n",
        "#     if (extra !=\"\"):\n",
        "#         text_file.write(f\"{extra}\\n\")\n",
        "#         save.add(output+key_caracter+str(Bible_dict[book][0]).zfill(2)+\"_\"+str(verse).zfill(3))\n",
        "    \n",
        "        \n",
        "\n",
        "#     for i, t in enumerate(find_all):\n",
        "        \n",
        "#         # this removes special caracters from the text# this removes special caracters from the text\n",
        "#         # text = re.sub(r\"[^a-zA-Z]+\", ' ', t.text) \n",
        "#         if t.text.split()[0] == 'Copyrighted':\n",
        "#             break\n",
        "            \n",
        "# #                         text = re.sub(r\"[+]\", ' ', t.text) \n",
        "#         text = ' '.join(re.findall(r'(?:[^\\W\\d_]+\\d|\\d+[^\\W\\d_])[^\\W_]*|[^\\W\\d_]+', t.text))\n",
        "#         # .strip() to delect any leading and trailing whitespace\n",
        "#         text_file.write(text.strip()+\"\\n\") # to use the ligaikuma app, we need to format of in the .txt\n",
        "# #                         text_file.write(f\"{i+1}    {text.strip()}      \") # 4 space, 6 space "
      ]
    },
    {
      "cell_type": "code",
      "execution_count": 5,
      "metadata": {
        "id": "c5q85pS-pTxl"
      },
      "outputs": [],
      "source": [
        "Bible_OT_dict = {\n",
        "    'GEN' : [1, \"Genesis\", 50],\n",
        "    'EXO' : [2, \"Exodus\", 40],\n",
        "    'LEV' : [3, \"Leviticus\", 27],\n",
        "    'NUM' : [4, \"Numbers\", 36],\n",
        "    'DEU' : [5, \"Deuteronomy\", 34],\n",
        "    'JOS' : [6, \"Joshua\", 24],\n",
        "    'JDG' : [7, \"Judges\" ,21],\n",
        "    'RUT' : [8, \"Ruth\", 4], \n",
        "    '1SA' : [9, \"1 Samuel\", 31],\n",
        "    '2SA' : [10, \"2 Samuel\", 24],\n",
        "    '1KI' : [11, \"1 Kings\", 22],\n",
        "    '2KI' : [12, \"2 Kings\", 25],\n",
        "    '1CH' : [13, \"1 Chronicles\", 29],\n",
        "    '2CH' : [14, \"2 Chronicles\", 36],\n",
        "    'EZR' : [15, \"Ezra\", 10],\n",
        "    'NEH' : [16, \"Nehemiah\", 13],\n",
        "    'EST' : [17, \"Esther\", 10], \n",
        "    'JOB' : [18, \"Job\", 42],\n",
        "    'PSA' : [19, \"Psalm\", 150],\n",
        "    'PRO' : [20, \"Proverbs\", 31],\n",
        "    'ECC' : [21, \"Ecclesiastes\", 12],\n",
        "    'SNG' : [22, \"Song of Solomon\", 8],\n",
        "    'ISA' : [23, \"Isaiah\", 66],\n",
        "    'JER' : [24, \"Jeremiah\", 52],\n",
        "    'LAM' : [25, \"Lamentations\", 5],\n",
        "    'EZK' : [26, \"Ezekiel\", 48],\n",
        "    'DAN' : [27, \"Daniel\", 12],\n",
        "    'HOS' : [28, \"Hosea\", 14],\n",
        "    'JOL' : [29, \"Joel\", 3],\n",
        "    'AMO' : [30, \"Amos\", 9],\n",
        "    'OBA' : [31, \"Obadiah\", 1],\n",
        "    'JON' : [32, \"Jonah\", 4],\n",
        "    'MIC' : [33, \"Micah\", 7],\n",
        "    'NAM' : [34, \"Nahum\", 3],\n",
        "    'HAB' : [35, \"Habakkuk\", 3],\n",
        "    'ZEP' : [36, \"Zechariah\", 3],\n",
        "    'HAG' : [37, \"Haggai\", 2],\n",
        "    'ZEC' : [38, \"Zechariah\", 14],\n",
        "    'MAL' : [39, \"Malachi\", 4]\n",
        "}\n",
        "    \n",
        "# Start of the new testament\n",
        "\n",
        "Bible_NT_dict = { \n",
        "    'MAT' : [1, \"Matthew\", 28],\n",
        "    'MRK' : [2, \"Mark\", 16],\n",
        "    'LUK' : [3, \"Luke\", 24],\n",
        "    'JHN' : [4, \"John\", 21],\n",
        "    'ACT' : [5, \"Acts\", 28],\n",
        "    'ROM' : [6, \"Romans\", 16],\n",
        "    '1CO' : [7, \"1 Corienthians\", 16],\n",
        "    '2CO' : [8, \"2 Corienthians\", 13],\n",
        "    'GAL' : [9, \"Galathians\", 6],\n",
        "    'EPH' : [10, \"Ephesians\", 6],\n",
        "    'PHP' : [11, \"Philippians\", 4],\n",
        "    'COL' : [12, \"Colossians\", 4],\n",
        "    '1TH' : [13, \"1 Thessalonians\", 5],\n",
        "    '2TH' : [14, \"2 Thessalonians\", 3],\n",
        "    '1TI' : [15, \"1 Timothy\", 6],\n",
        "    '2TI' : [16, \"2 Timothy\", 4],\n",
        "    'TIT' : [17, \"Titus\", 3],\n",
        "    'PHM' : [18, \"Philemon\", 1],\n",
        "    'HEB' : [19, \"Hebrews\", 13],\n",
        "    'JAS' : [20, \"James\", 5],\n",
        "    '1PE' : [21, \"1 Peter\", 5],\n",
        "    '2PE' : [22, \"2 Peter\", 3],\n",
        "    '1JN' : [23, \"1 John\", 5],\n",
        "    '2JN' : [24, \"2 John\", 1],\n",
        "    '3JN' : [25, \"3 John\", 1],\n",
        "    'JUD' : [26, \"Jude\", 1],\n",
        "    'REV' : [27, \"Revelation\", 22]\n",
        "}"
      ]
    },
    {
      "cell_type": "code",
      "execution_count": 6,
      "metadata": {
        "id": "BqzVSYkCpTxm"
      },
      "outputs": [],
      "source": [
        "# Save books with extra content \n",
        "save = set()"
      ]
    },
    {
      "cell_type": "code",
      "execution_count": 7,
      "metadata": {
        "id": "P6rFg8qkpTxm"
      },
      "outputs": [],
      "source": [
        "from typing import Text\n",
        "def get_english_text(lang_pair_1, lang_pair_2, Bible_dict = Bible_NT_dict, output=\"./\"):\n",
        "    \"\"\"\n",
        "    This function will help to save in text form, depening to the book and verse argument \n",
        "    given in parameter\n",
        "\n",
        "    \n",
        "    The data is maintly taken from the website https://www.jw.org/\n",
        "    \"\"\"\n",
        "    try :\n",
        "        for book in Bible_dict:\n",
        "            for verse in range(1, Bible_dict[book][2]+1):\n",
        "                request = rq.get(lang_pair_1\\\n",
        "                            +str(book)+'/'+str(verse)+'/')\n",
        "                html = request.content\n",
        "                soup = BeautifulSoup(html, 'html.parser') \n",
        "                find_all_1 = soup.find_all(\"span\", {\"class\": \"\"})\n",
        "\n",
        "                request = rq.get(lang_pair_2\\\n",
        "                            +str(book)+'/'+str(verse)+'/')\n",
        "                html = request.content\n",
        "                soup = BeautifulSoup(html, 'html.parser') \n",
        "                find_all_2 = soup.find_all(\"span\", {\"class\": \"\"})\n",
        "                \n",
        "                # # help get extra text read before the first verse\n",
        "                # s_scipt = soup.find_all('script')\n",
        "                \n",
        "                # extra = \"\"\n",
        "                # if (len(str(s_scipt[6].string).split('class=\\\\\"d\\\\\"')) > 1):\n",
        "                #     line = str(s_scipt[6].string).split('class=\\\\\"d\\\\\"')[2].split('class=\\\\\"q\\\\')[0]\n",
        "                #     extra = \" \".join(re.findall('([A-Z]+)', line))\n",
        "                    \n",
        "\n",
        "                # if len(Bible_dict) == 39: \n",
        "                #     key_caracter = \"A\"\n",
        "                # else :\n",
        "                #     key_caracter = \"B\"\n",
        "                    \n",
        "#                 # This was added to quickly get book with extra content (but need to be commented for the nomal process)    \n",
        "#                 if (extra !=\"\"):\n",
        "#                     save.add(output+key_caracter+str(Bible_dict[book][0]).zfill(2)+\"_\"+str(verse).zfill(3))\n",
        "#                     continue\n",
        "#                 else:\n",
        "#                     continue\n",
        "\n",
        "                \n",
        "#                 with open(output+key_caracter+str(Bible_dict[book][0]).zfill(2)+\"_\"+str(verse).zfill(3)+\".txt\", \"w\") as text_file:\n",
        "\n",
        "\n",
        "# #                     text_file.write(str(Bible_dict[book][1])+\" \"+str(verse)+\"  \") # 6 space\n",
        "# #                     text_file.write(f\"  {extra}  \")\n",
        "                    \n",
        "#                     text_file.write(str(Bible_dict[book][1])+\" \"+str(verse)+\"\\n\") # 6 space\n",
        "#                     if (extra !=\"\"):\n",
        "#                         text_file.write(f\"{extra}\\n\")\n",
        "#                         save.add(output+key_caracter+str(Bible_dict[book][0]).zfill(2)+\"_\"+str(verse).zfill(3))\n",
        "                    \n",
        "                        \n",
        "\n",
        "                for i, (t_1, t_2) in enumerate(zip(find_all_1, find_all_2):\n",
        "                    \n",
        "                    # this removes special caracters from the text# this removes special caracters from the text\n",
        "                    # text = re.sub(r\"[^a-zA-Z]+\", ' ', t.text) \n",
        "                    if t.text.split()[0] == 'Copyrighted':\n",
        "                        break\n",
        "                        \n",
        "#                         text = re.sub(r\"[+]\", ' ', t.text) \n",
        "                    text_1 = ' '.join(re.findall(r'(?:[^\\W\\d_]+\\d|\\d+[^\\W\\d_])[^\\W_]*|[^\\W\\d_]+', t_1.text))\n",
        "                    text_2 = ' '.join(re.findall(r'(?:[^\\W\\d_]+\\d|\\d+[^\\W\\d_])[^\\W_]*|[^\\W\\d_]+', t_2.text))\n",
        "                    print(f\"{text_1} || {Text_2}\")\n",
        "                    # .strip() to delect any leading and trailing whitespace\n",
        "                    # text_file.write(text.strip()+\"\\n\") # to use the ligaikuma app, we need to format of in the .txt\n",
        "#                         text_file.write(f\"{i+1}    {text.strip()}      \") # 4 space, 6 space \n",
        "            \n",
        "    except Exception as inst:      \n",
        "        traceback.print_exc()"
      ]
    },
    {
      "cell_type": "markdown",
      "metadata": {
        "id": "6Rk2lwAxpTxn"
      },
      "source": [
        "# Download Data"
      ]
    },
    {
      "cell_type": "code",
      "source": [
        "get_english_text(lang_pair_1=\"https://live.bible.is/bible/ENGASV/\", \n",
        "                 lang_pair_2=\"https://live.bible.is/bible/FRADBY/\", \n",
        "                 Bible_dict = Bible_NT_dict, \n",
        "                 output=\"./\")"
      ],
      "metadata": {
        "id": "AMwLMiOa_11W",
        "outputId": "20629cc3-b37d-4d94-df69-7c63e8a26e62",
        "colab": {
          "base_uri": "https://localhost:8080/"
        }
      },
      "execution_count": 8,
      "outputs": [
        {
          "output_type": "stream",
          "name": "stderr",
          "text": [
            "Traceback (most recent call last):\n",
            "  File \"<ipython-input-7-65c246301c8c>\", line 12, in get_english_text\n",
            "    request = rq.get(lang_key                            +str(book)+'/'+str(verse)+'/')\n",
            "NameError: name 'lang_key' is not defined\n"
          ]
        }
      ]
    },
    {
      "cell_type": "code",
      "execution_count": 34,
      "metadata": {
        "id": "jsx7UwwdpTxo",
        "outputId": "dd5b85ac-98b5-4c18-f5aa-2cc4565be5c7",
        "colab": {
          "base_uri": "https://localhost:8080/"
        }
      },
      "outputs": [
        {
          "output_type": "stream",
          "name": "stderr",
          "text": [
            "Traceback (most recent call last):\n",
            "  File \"<ipython-input-30-b6b08171faf4>\", line 21, in get_english_text\n",
            "    if (len(str(s_engl_scipt[6].string).split('class=\\\\\"d\\\\\"')) > 1):\n",
            "IndexError: list index out of range\n"
          ]
        }
      ],
      "source": [
        "# Old testament\n",
        "get_english_text(\"https://live.bible.is/bible/FRABIB\", Bible_dict = Bible_OT_dict,\n",
        "                             output=\"./\")"
      ]
    },
    {
      "cell_type": "code",
      "source": [
        "!rm *"
      ],
      "metadata": {
        "id": "fcxAWSeuyqDp",
        "outputId": "a31c7358-f351-4ef4-f854-e335978a816c",
        "colab": {
          "base_uri": "https://localhost:8080/"
        }
      },
      "execution_count": 32,
      "outputs": [
        {
          "output_type": "stream",
          "name": "stdout",
          "text": [
            "rm: cannot remove 'sample_data': Is a directory\n"
          ]
        }
      ]
    },
    {
      "cell_type": "code",
      "execution_count": null,
      "metadata": {
        "id": "pG4BhUxcpTxp"
      },
      "outputs": [],
      "source": [
        "# print(len(save))\n",
        "# print(save)"
      ]
    },
    {
      "cell_type": "code",
      "execution_count": null,
      "metadata": {
        "id": "zciyOQv6pTxp"
      },
      "outputs": [],
      "source": [
        "# New testament\n",
        "\n",
        "get_english_text(Bible_dict = Bible_NT_dict)"
      ]
    },
    {
      "cell_type": "code",
      "execution_count": null,
      "metadata": {
        "id": "VwQYWXWVpTxq"
      },
      "outputs": [],
      "source": [
        ""
      ]
    }
  ],
  "metadata": {
    "kernelspec": {
      "display_name": "Python 3",
      "language": "python",
      "name": "python3"
    },
    "language_info": {
      "codemirror_mode": {
        "name": "ipython",
        "version": 3
      },
      "file_extension": ".py",
      "mimetype": "text/x-python",
      "name": "python",
      "nbconvert_exporter": "python",
      "pygments_lexer": "ipython3",
      "version": "3.8.8"
    },
    "colab": {
      "name": "01-BibleIS.ipynb",
      "provenance": [],
      "include_colab_link": true
    }
  },
  "nbformat": 4,
  "nbformat_minor": 0
}